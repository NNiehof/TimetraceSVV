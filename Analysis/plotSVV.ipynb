{
 "cells": [
  {
   "cell_type": "code",
   "execution_count": 1,
   "metadata": {
    "collapsed": true
   },
   "outputs": [],
   "source": [
    "import pandas as pd\n",
    "import numpy as np\n",
    "import pickle\n",
    "\n",
    "%matplotlib tk\n",
    "# %matplotlib inline\n",
    "import matplotlib.pyplot as plt"
   ]
  },
  {
   "cell_type": "code",
   "execution_count": 2,
   "metadata": {},
   "outputs": [],
   "source": [
    "# read in data\n",
    "sj = \"002\"\n",
    "data_folder = \"D:/OneDrive/Code/TimetraceSVV/Data/{0}/\".format(sj)\n",
    "f_name = \"{0}sj{1}_data.pickle\".format(data_folder, sj)\n",
    "with open(f_name, \"rb\") as f:\n",
    "    df = pickle.load(f)\n",
    "    drift = pickle.load(f)\n",
    "    line_ori = pickle.load(f)\n",
    "    timestamp = pickle.load(f)"
   ]
  },
  {
   "cell_type": "code",
   "execution_count": 3,
   "metadata": {},
   "outputs": [],
   "source": [
    "df.head(10)"
   ]
  },
  {
   "cell_type": "code",
   "execution_count": 4,
   "metadata": {},
   "outputs": [],
   "source": [
    "df.dtypes"
   ]
  },
  {
   "cell_type": "code",
   "execution_count": 5,
   "metadata": {},
   "outputs": [],
   "source": [
    "# get conditions\n",
    "currents = sorted(df[\"current\"].unique())\n",
    "frames = sorted(df[\"frame_ori\"].unique())\n",
    "c = len(currents)\n",
    "f = len(frames)"
   ]
  },
  {
   "cell_type": "markdown",
   "metadata": {},
   "source": [
    "Plot data"
   ]
  },
  {
   "cell_type": "code",
   "execution_count": 6,
   "metadata": {
    "collapsed": false
   },
   "outputs": [],
   "source": [
    "# plot raw line orientation traces\n",
    "gvs_on = 10.0 * 60\n",
    "gvs_off = 27.0 * 60\n",
    "x_gvs_area = [gvs_on, gvs_off]\n",
    "y1_gvs_area = [-10, -10]\n",
    "y2_gvs_area = [15, 15]\n",
    "\n",
    "plt.figure()\n",
    "count = 0\n",
    "for curr in currents:\n",
    "    count += 1\n",
    "    plt.subplot(c, 1, count)\n",
    "    plt.fill_between(x_gvs_area, y1_gvs_area, y2_gvs_area,\n",
    "                     color=\"grey\", linestyle=\"None\", alpha=0.3)\n",
    "    \n",
    "    selection = line_ori[(df[\"current\"] == curr) & np.isnan(df[\"frame_ori\"]), :]\n",
    "    for row in selection:\n",
    "        samples = np.arange(0, len(row))\n",
    "    \n",
    "        plt.plot(samples, row)\n",
    "    \n",
    "    plt.plot(samples, np.zeros(len(samples)), color=\"black\",\n",
    "             linewidth=0.5)\n",
    "    plt.title(\"{0} mA\".format(curr))\n",
    "    plt.ylabel(\"SVV (deg)\")\n",
    "    plt.xlabel(\"t (samples)\")\n",
    "    plt.ylim((-10, 15))\n",
    "    plt.xlim((0, 42 * 60))\n",
    "plt.tight_layout()"
   ]
  },
  {
   "cell_type": "code",
   "execution_count": 7,
   "metadata": {},
   "outputs": [],
   "source": [
    "# plot mean line orientation over traces\n",
    "plt.figure()\n",
    "count = 0\n",
    "for curr in currents:\n",
    "    count += 1\n",
    "    plt.subplot(c, 1, count)\n",
    "    plt.fill_between(x_gvs_area, y1_gvs_area, y2_gvs_area,\n",
    "                     color=\"grey\", linestyle=\"None\", alpha=0.3)\n",
    "    \n",
    "    selection = line_ori[(df[\"current\"] == curr) & np.isnan(df[\"frame_ori\"]), :]\n",
    "    mean_ori = np.mean(selection, axis=0)\n",
    "    samples = np.arange(0, len(mean_ori))\n",
    "    plt.plot(samples, mean_ori)\n",
    "    \n",
    "    plt.plot(samples, np.zeros(len(samples)), color=\"black\",\n",
    "             linewidth=0.5)\n",
    "    plt.title(\"{0} mA\".format(curr))\n",
    "    plt.ylabel(\"SVV (deg)\")\n",
    "    plt.xlabel(\"t (samples)\")\n",
    "    plt.ylim((-7, 7))\n",
    "    plt.xlim((0, 42 * 60))\n",
    "plt.tight_layout()"
   ]
  },
  {
   "cell_type": "code",
   "execution_count": 8,
   "metadata": {},
   "outputs": [],
   "source": [
    "# plot mean line orientation over traces\n",
    "plt.figure()\n",
    "count = 0\n",
    "plt.fill_between(x_gvs_area, y1_gvs_area, y2_gvs_area,\n",
    "                 color=\"grey\", linestyle=\"None\", alpha=0.3)\n",
    "cols = [\"cyan\", \"green\", \"red\", \"blue\"]\n",
    "for curr in currents:\n",
    "    col = cols[count]\n",
    "    count += 1    \n",
    "    selection = line_ori[(df[\"current\"] == curr) & np.isnan(df[\"frame_ori\"]), :]\n",
    "    mean_ori = np.mean(selection, axis=0)\n",
    "    samples = np.arange(0, len(mean_ori))\n",
    "    plt.plot(samples, mean_ori, color=col)\n",
    "    \n",
    "plt.plot(samples, np.zeros(len(samples)), color=\"black\",\n",
    "         linewidth=0.5)\n",
    "plt.ylabel(\"SVV (deg)\")\n",
    "plt.xlabel(\"t (samples)\")\n",
    "plt.ylim((-7, 7))\n",
    "plt.xlim((0, 42 * 60))\n",
    "plt.tight_layout()"
   ]
  },
  {
   "cell_type": "code",
   "execution_count": null,
   "metadata": {},
   "outputs": [],
   "source": [
    "# frame effect\n",
    "plt.figure()\n",
    "plt.fill_between(x_gvs_area, y1_gvs_area, y2_gvs_area,\n",
    "                 color=\"grey\", linestyle=\"None\", alpha=0.3)\n",
    "cols = [\"blue\", \"orange\", \"magenta\"]\n",
    "selection = line_ori[(df[\"current\"] == 2.0) & np.isnan(df[\"frame_ori\"]), :]\n",
    "mean_ori = np.mean(selection, axis=0)\n",
    "samples = np.arange(0, len(mean_ori))\n",
    "plt.plot(samples, mean_ori, color=\"blue\", label=\"noframe\")\n",
    "\n",
    "selection = line_ori[(df[\"current\"] == 2.0) & (df[\"frame_ori\"] == 0), :]\n",
    "mean_ori = np.mean(selection, axis=0)\n",
    "plt.plot(samples, mean_ori, color=\"orange\", label=\"0 deg\")\n",
    "\n",
    "selection = line_ori[(df[\"current\"] == 2.0) & (df[\"frame_ori\"] == 20), :]\n",
    "mean_ori = np.mean(selection, axis=0)\n",
    "plt.plot(samples, mean_ori, color=\"magenta\", label=\"20 deg\")\n",
    "\n",
    "plt.plot(samples, np.zeros(len(samples)), color=\"black\",\n",
    "         linewidth=0.5)\n",
    "plt.ylabel(\"SVV (deg)\")\n",
    "plt.xlabel(\"t (samples)\")\n",
    "plt.ylim((-4, 4))\n",
    "plt.xlim((0, 42 * 60))\n",
    "plt.legend()\n",
    "plt.tight_layout()"
   ]
  },
  {
   "cell_type": "code",
   "execution_count": null,
   "metadata": {},
   "outputs": [],
   "source": []
  }
 ],
 "metadata": {
  "kernelspec": {
   "display_name": "Python 2",
   "language": "python",
   "name": "python2"
  },
  "language_info": {
   "codemirror_mode": {
    "name": "ipython",
    "version": 2
   },
   "file_extension": ".py",
   "mimetype": "text/x-python",
   "name": "python",
   "nbconvert_exporter": "python",
   "pygments_lexer": "ipython2",
   "version": "2.7.6"
  }
 },
 "nbformat": 4,
 "nbformat_minor": 0
}
